{
 "cells": [
  {
   "cell_type": "code",
   "execution_count": 3,
   "metadata": {},
   "outputs": [
    {
     "name": "stdout",
     "output_type": "stream",
     "text": [
      "A\n",
      "BB\n",
      "CCC\n",
      "DDDD\n",
      "EEEEE\n"
     ]
    }
   ],
   "source": [
    "# Q1 Print a half pyramid using alphabets\n",
    "def alphabet(n):\n",
    "    num=65\n",
    "    for i in range(0,n): \n",
    "        for j in range(0,i+1):\n",
    "            ch=chr(num)\n",
    "            print(ch,end=\"\")\n",
    "        num=num+1\n",
    "        print(\"\\r\")\n",
    "n=5\n",
    "alphabet(n)\n"
   ]
  },
  {
   "cell_type": "code",
   "execution_count": 4,
   "metadata": {},
   "outputs": [
    {
     "name": "stdout",
     "output_type": "stream",
     "text": [
      "FULL PYRAMID :\n",
      "*\n",
      "***\n",
      "*****\n",
      "*******\n",
      "*********\n"
     ]
    }
   ],
   "source": [
    "# Q2  Print a full pyramid using'*'\n",
    "\n",
    "print(\"FULL PYRAMID :\")\n",
    "k=1\n",
    "for i in range(5):\n",
    "    for j in range (k):\n",
    "        print(\"*\",end=\"\")\n",
    "    k=k+2\n",
    "    print()\n"
   ]
  },
  {
   "cell_type": "code",
   "execution_count": 6,
   "metadata": {},
   "outputs": [
    {
     "name": "stdout",
     "output_type": "stream",
     "text": [
      "reverse of the number :  654\n"
     ]
    }
   ],
   "source": [
    "# Q3 take a number input and reverse it\n",
    "\n",
    "n=int(input(\"enter your number\"))\n",
    "rev=0\n",
    "while(n>0):\n",
    "    dig=n%10\n",
    "    rev=rev*10+dig\n",
    "    n=n//10\n",
    "print(\"reverse of the number : \",rev) #given input:456"
   ]
  },
  {
   "cell_type": "code",
   "execution_count": 11,
   "metadata": {},
   "outputs": [
    {
     "name": "stdout",
     "output_type": "stream",
     "text": [
      "the peak element is :  20\n"
     ]
    }
   ],
   "source": [
    "# Q4 Find the peak element of given array\n",
    "\n",
    "def findPeak(nums, left=None,right=None):\n",
    "    if left is None and right is None:\n",
    "        left,right =0,len(nums)-1\n",
    "\n",
    "    mid=(left+right)//2\n",
    "\n",
    "    if((mid==0 or nums[mid-1]<=nums[mid]) and (mid==len(nums)-1 or nums[mid+1]<=nums[mid])):\n",
    "        return mid\n",
    "\n",
    "    if mid-1>=0 and nums[mid-1]>nums[mid]:\n",
    "        return findPeak(nums,left,mid-1)\n",
    "    return findPeak(nums,mid+1,right)\n",
    "\n",
    "def findPeakElement(nums) -> int:\n",
    "    if not nums:\n",
    "        exit(-1)\n",
    "\n",
    "    index=findPeak(nums)\n",
    "    return nums[index]\n",
    "\n",
    "if __name__ =='__main__':\n",
    "    nums=[10,20,15,2,23,67]\n",
    "    print(\"the peak element is : \",findPeakElement(nums))\n",
    "\n"
   ]
  },
  {
   "cell_type": "code",
   "execution_count": 12,
   "metadata": {},
   "outputs": [
    {
     "name": "stdout",
     "output_type": "stream",
     "text": [
      "Given array is\n",
      "12345\n",
      " Rotated array is\n",
      "51234"
     ]
    }
   ],
   "source": [
    "# Q5 cyclically rotate the array by 1\n",
    "def rotate(arr,n):\n",
    "    x= arr[n-1]\n",
    "    for i in range(n-1,0,-1):\n",
    "        arr[i]=arr[i-1];\n",
    "    arr[0]=x;\n",
    "arr=[1,2,3,4,5]\n",
    "n=len(arr)\n",
    "print(\"Given array is\")\n",
    "for i in range(0,n):\n",
    "    print(arr[i],end='')\n",
    "rotate(arr,n)\n",
    "print(\"\\n Rotated array is\")\n",
    "for i in range(0,n):\n",
    "    print(arr[i],end='')\n"
   ]
  },
  {
   "cell_type": "code",
   "execution_count": 14,
   "metadata": {},
   "outputs": [
    {
     "name": "stdout",
     "output_type": "stream",
     "text": [
      "length of the longest continous sub sequense is  4\n"
     ]
    }
   ],
   "source": [
    "# Q6 Find the longest sub sequence\n",
    "\n",
    "def findlongestconseqsubsequence(arr,n):\n",
    "    ans=0\n",
    "    count=0\n",
    "    arr.sort()\n",
    "    v=[]\n",
    "    v.append(arr[0])\n",
    "    for i in range(1,n):\n",
    "        if (arr[i] != arr[i-1]):\n",
    "            v.append(arr[i])\n",
    "\n",
    "    for i in range(len(v)):\n",
    "        if (i>0 and v[i] == v[i-1]+1):\n",
    "            count +=1\n",
    "        else:\n",
    "            count=1\n",
    "\n",
    "        ans=max(ans,count)\n",
    "    return ans\n",
    "arr=[1,9,3,10,4,20,2]\n",
    "n=len(arr)\n",
    "print(\"length of the longest continous sub sequense is \",findlongestconseqsubsequence(arr,n))"
   ]
  }
 ],
 "metadata": {
  "kernelspec": {
   "display_name": "Python 3.10.7 64-bit",
   "language": "python",
   "name": "python3"
  },
  "language_info": {
   "codemirror_mode": {
    "name": "ipython",
    "version": 3
   },
   "file_extension": ".py",
   "mimetype": "text/x-python",
   "name": "python",
   "nbconvert_exporter": "python",
   "pygments_lexer": "ipython3",
   "version": "3.10.7"
  },
  "orig_nbformat": 4,
  "vscode": {
   "interpreter": {
    "hash": "0d72b21489300652f2337cd7f80c57cc00ce6bbc92cf98d285c178d0a8ced433"
   }
  }
 },
 "nbformat": 4,
 "nbformat_minor": 2
}
